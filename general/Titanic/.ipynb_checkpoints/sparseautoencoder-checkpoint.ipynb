{
 "cells": [
  {
   "cell_type": "code",
   "execution_count": 2,
   "metadata": {},
   "outputs": [],
   "source": [
    "import tensorflow as tf\n",
    "import numpy as np\n",
    "import predata"
   ]
  },
  {
   "cell_type": "code",
   "execution_count": 9,
   "metadata": {},
   "outputs": [
    {
     "name": "stdout",
     "output_type": "stream",
     "text": [
      "the dataset you selected dos'nt exist!!! working on data preprocess!\n",
      "总样本集为891行，取测试集比例0.000000，取0个测试集，891个训练集\n",
      "891\n",
      "数据已保存到./data/train_Titanic_data_0.mat\n"
     ]
    },
    {
     "name": "stderr",
     "output_type": "stream",
     "text": [
      "H:\\Vision\\Anconda\\lib\\site-packages\\sklearn\\preprocessing\\data.py:586: DeprecationWarning: Passing 1d arrays as data is deprecated in 0.17 and will raise ValueError in 0.19. Reshape your data either using X.reshape(-1, 1) if your data has a single feature or X.reshape(1, -1) if it contains a single sample.\n",
      "  warnings.warn(DEPRECATION_MSG_1D, DeprecationWarning)\n",
      "H:\\Vision\\Anconda\\lib\\site-packages\\sklearn\\preprocessing\\data.py:586: DeprecationWarning: Passing 1d arrays as data is deprecated in 0.17 and will raise ValueError in 0.19. Reshape your data either using X.reshape(-1, 1) if your data has a single feature or X.reshape(1, -1) if it contains a single sample.\n",
      "  warnings.warn(DEPRECATION_MSG_1D, DeprecationWarning)\n",
      "H:\\Vision\\Anconda\\lib\\site-packages\\sklearn\\preprocessing\\data.py:649: DeprecationWarning: Passing 1d arrays as data is deprecated in 0.17 and will raise ValueError in 0.19. Reshape your data either using X.reshape(-1, 1) if your data has a single feature or X.reshape(1, -1) if it contains a single sample.\n",
      "  warnings.warn(DEPRECATION_MSG_1D, DeprecationWarning)\n",
      "H:\\Vision\\Anconda\\lib\\site-packages\\sklearn\\preprocessing\\data.py:586: DeprecationWarning: Passing 1d arrays as data is deprecated in 0.17 and will raise ValueError in 0.19. Reshape your data either using X.reshape(-1, 1) if your data has a single feature or X.reshape(1, -1) if it contains a single sample.\n",
      "  warnings.warn(DEPRECATION_MSG_1D, DeprecationWarning)\n",
      "H:\\Vision\\Anconda\\lib\\site-packages\\sklearn\\preprocessing\\data.py:586: DeprecationWarning: Passing 1d arrays as data is deprecated in 0.17 and will raise ValueError in 0.19. Reshape your data either using X.reshape(-1, 1) if your data has a single feature or X.reshape(1, -1) if it contains a single sample.\n",
      "  warnings.warn(DEPRECATION_MSG_1D, DeprecationWarning)\n",
      "H:\\Vision\\Anconda\\lib\\site-packages\\sklearn\\preprocessing\\data.py:649: DeprecationWarning: Passing 1d arrays as data is deprecated in 0.17 and will raise ValueError in 0.19. Reshape your data either using X.reshape(-1, 1) if your data has a single feature or X.reshape(1, -1) if it contains a single sample.\n",
      "  warnings.warn(DEPRECATION_MSG_1D, DeprecationWarning)\n"
     ]
    },
    {
     "data": {
      "text/plain": [
       "(100, 21)"
      ]
     },
     "execution_count": 9,
     "metadata": {},
     "output_type": "execute_result"
    }
   ],
   "source": [
    "file_path='./dataset/train.csv'\n",
    "savefile=True\n",
    "savepath='./data'\n",
    "_, _, tr, tr_l,_ = predata.predata(file_path, savefile,savename='train', savepath=savepath, ratio=0,predataflag=1)\n",
    "lens=len(tr)\n",
    "#对数据归一化，然后扔到稀疏编码器内\n",
    "input_nodes = 21 #输入节点数\n",
    "hidden_size = 100#隐藏节点数\n",
    "output_nodes =input_nodes #输出节点数\n",
    "def sampleImage():\n",
    "    batchsize=100\n",
    "    start=np.random.randint(0,lens-100)\n",
    "    return tr[start:100+start]\n",
    "# b=sampleImage()\n",
    "# 通过xvaier初始化第一层的权重值，xvaier初始化详见http://blog.csdn.net/shuzfan/article/details/51338178\n",
    "def xvaier_init(input_size, output_size):\n",
    "    low = -np.sqrt(6.0/(input_nodes+output_nodes))\n",
    "    high = -low\n",
    "    return tf.random_uniform((input_size, output_size), low, high, dtype = tf.float32)\n",
    "# 计算代价函数，代价函数由三部分组成，均方差项，权重衰减项，以及稀疏因子项\n",
    "def computecost(w,b,x,w1,b1):\n",
    "    p = 0.1\n",
    "    beta = 3\n",
    "    lamda = 0.00001\n",
    "    \n",
    "    hidden_output = tf.sigmoid(tf.matmul(x,w) + b)\n",
    "    pj = tf.reduce_mean(hidden_output, 0)\n",
    "    sparse_cost = tf.reduce_sum(p*tf.log(p/pj)+(1-p)*tf.log((1-p)/(1-pj)))\n",
    "    output = tf.sigmoid(tf.matmul(hidden_output,w1)+b1)\n",
    "    regular = lamda*(tf.reduce_sum(w*w)+tf.reduce_sum(w1*w1))/2\n",
    "    cross_entropy = tf.reduce_mean(tf.pow(output - x, 2))/2 +sparse_cost*beta + regular #+ regular+sparse_cost*beta \n",
    "    return cross_entropy, hidden_output, output\n"
   ]
  }
 ],
 "metadata": {
  "kernelspec": {
   "display_name": "Python 3",
   "language": "python",
   "name": "python3"
  },
  "language_info": {
   "codemirror_mode": {
    "name": "ipython",
    "version": 3
   },
   "file_extension": ".py",
   "mimetype": "text/x-python",
   "name": "python",
   "nbconvert_exporter": "python",
   "pygments_lexer": "ipython3",
   "version": "3.6.1"
  }
 },
 "nbformat": 4,
 "nbformat_minor": 2
}
