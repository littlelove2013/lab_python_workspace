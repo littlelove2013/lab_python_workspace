{
 "cells": [
  {
   "cell_type": "code",
   "execution_count": 10,
   "metadata": {},
   "outputs": [],
   "source": [
    "import tensorflow as tf\n",
    "import numpy as np\n",
    "import matplotlib.pyplot as plt\n",
    "import predata"
   ]
  },
  {
   "cell_type": "code",
   "execution_count": 12,
   "metadata": {},
   "outputs": [
    {
     "name": "stdout",
     "output_type": "stream",
     "text": [
      "the dataset you selected dos'nt exist!!! working on data preprocess!\n",
      "总样本集为891行，取测试集比例0.000000，取0个测试集，891个训练集\n",
      "891\n",
      "数据已保存到./data/train_Titanic_data_0.mat\n"
     ]
    },
    {
     "name": "stderr",
     "output_type": "stream",
     "text": [
      "H:\\Vision\\Anconda\\lib\\site-packages\\sklearn\\preprocessing\\data.py:586: DeprecationWarning: Passing 1d arrays as data is deprecated in 0.17 and will raise ValueError in 0.19. Reshape your data either using X.reshape(-1, 1) if your data has a single feature or X.reshape(1, -1) if it contains a single sample.\n",
      "  warnings.warn(DEPRECATION_MSG_1D, DeprecationWarning)\n",
      "H:\\Vision\\Anconda\\lib\\site-packages\\sklearn\\preprocessing\\data.py:586: DeprecationWarning: Passing 1d arrays as data is deprecated in 0.17 and will raise ValueError in 0.19. Reshape your data either using X.reshape(-1, 1) if your data has a single feature or X.reshape(1, -1) if it contains a single sample.\n",
      "  warnings.warn(DEPRECATION_MSG_1D, DeprecationWarning)\n",
      "H:\\Vision\\Anconda\\lib\\site-packages\\sklearn\\preprocessing\\data.py:649: DeprecationWarning: Passing 1d arrays as data is deprecated in 0.17 and will raise ValueError in 0.19. Reshape your data either using X.reshape(-1, 1) if your data has a single feature or X.reshape(1, -1) if it contains a single sample.\n",
      "  warnings.warn(DEPRECATION_MSG_1D, DeprecationWarning)\n",
      "H:\\Vision\\Anconda\\lib\\site-packages\\sklearn\\preprocessing\\data.py:586: DeprecationWarning: Passing 1d arrays as data is deprecated in 0.17 and will raise ValueError in 0.19. Reshape your data either using X.reshape(-1, 1) if your data has a single feature or X.reshape(1, -1) if it contains a single sample.\n",
      "  warnings.warn(DEPRECATION_MSG_1D, DeprecationWarning)\n",
      "H:\\Vision\\Anconda\\lib\\site-packages\\sklearn\\preprocessing\\data.py:586: DeprecationWarning: Passing 1d arrays as data is deprecated in 0.17 and will raise ValueError in 0.19. Reshape your data either using X.reshape(-1, 1) if your data has a single feature or X.reshape(1, -1) if it contains a single sample.\n",
      "  warnings.warn(DEPRECATION_MSG_1D, DeprecationWarning)\n",
      "H:\\Vision\\Anconda\\lib\\site-packages\\sklearn\\preprocessing\\data.py:649: DeprecationWarning: Passing 1d arrays as data is deprecated in 0.17 and will raise ValueError in 0.19. Reshape your data either using X.reshape(-1, 1) if your data has a single feature or X.reshape(1, -1) if it contains a single sample.\n",
      "  warnings.warn(DEPRECATION_MSG_1D, DeprecationWarning)\n"
     ]
    }
   ],
   "source": [
    "file_path='./dataset/train.csv'\n",
    "savefile=True\n",
    "savepath='./data'\n",
    "_, _, tr, tr_l,_ = predata.predata(file_path, savefile,savename='train', savepath=savepath, ratio=0,predataflag=1)\n",
    "lens=len(tr)\n",
    "#对数据归一化，然后扔到稀疏编码器内\n",
    "input_nodes = 21 #输入节点数\n",
    "hidden_size = 100#隐藏节点数\n",
    "output_nodes =input_nodes #输出节点数\n",
    "def sampleImage():\n",
    "    batchsize=100\n",
    "    start=np.random.randint(0,lens-100)\n",
    "    return tr[start:100+start]\n",
    "# b=sampleImage()\n",
    "# 通过xvaier初始化第一层的权重值，xvaier初始化详见http://blog.csdn.net/shuzfan/article/details/51338178\n",
    "def xvaier_init(input_size, output_size):\n",
    "    low = -np.sqrt(6.0/(input_nodes+output_nodes))\n",
    "    high = -low\n",
    "    return tf.random_uniform((input_size, output_size), low, high, dtype = tf.float32)\n",
    "# 计算代价函数，代价函数由三部分组成，均方差项，权重衰减项，以及稀疏因子项\n",
    "def computecost(w,b,x,w1,b1):\n",
    "    p = 0.1\n",
    "    beta = 3\n",
    "    lamda = 0.00001\n",
    "    \n",
    "    hidden_output = tf.sigmoid(tf.matmul(x,w) + b)\n",
    "    pj = tf.reduce_mean(hidden_output, 0)\n",
    "    sparse_cost = tf.reduce_sum(p*tf.log(p/pj)+(1-p)*tf.log((1-p)/(1-pj)))\n",
    "    output = tf.sigmoid(tf.matmul(hidden_output,w1)+b1)\n",
    "    regular = lamda*(tf.reduce_sum(w*w)+tf.reduce_sum(w1*w1))/2\n",
    "    cross_entropy = tf.reduce_mean(tf.pow(output - x, 2))/2 +sparse_cost*beta + regular #+ regular+sparse_cost*beta \n",
    "    return cross_entropy, hidden_output, output\n",
    "# 可视化自编码器：为了使隐藏单元得到最大激励（隐藏单元需要什么样的特征输入），将这些特征输入显示出来。\n",
    "def show_image(w):\n",
    "    sum = np.sqrt(np.sum(w**2, 0))\n",
    "    changedw = w/sum\n",
    "    a,b = changedw.shape\n",
    "    c = np.sqrt(a*b)\n",
    "    d = int(np.sqrt(a))\n",
    "    e = int(c/d)\n",
    "    buf = 1\n",
    "    newimage = -np.ones((buf+(d+buf)*e,buf+(d+buf)*e))\n",
    "    k = 0\n",
    "    for i in range(e):\n",
    "        for j in range(e):\n",
    "            maxvalue = np.amax(changedw[:,k])\n",
    "            if(maxvalue<0):\n",
    "                maxvalue = -maxvalue\n",
    "            newimage[(buf+i*(d+buf)):(buf+i*(d+buf)+d),(buf+j*(d+buf)):(buf+j*(d+buf)+d)] = np.reshape(changedw[:,k],(d,d))/maxvalue\n",
    "            k+=1\n",
    "    plt.figure(\"beauty\")\n",
    "    plt.imshow(newimage)\n",
    "    plt.axis('off')\n",
    "    plt.show()   "
   ]
  },
  {
   "cell_type": "code",
   "execution_count": null,
   "metadata": {},
   "outputs": [],
   "source": [
    "def main():\n",
    "    w = tf.Variable(xvaier_init(input_nodes, hidden_size))\n",
    "    b = tf.Variable(tf.truncated_normal([hidden_size],0.1))   \n",
    "    x = tf.placeholder(tf.float32, shape = [None, input_nodes])\n",
    "    w1 = tf.Variable(tf.truncated_normal([hidden_size,input_nodes], -0.1, 0.1))\n",
    "    b1 = tf.Variable(tf.truncated_normal([output_nodes],0.1))\n",
    "\n",
    "    cost, hidden_output, output = computecost(w,b,x,w1,b1)\n",
    "    train_step = tf.train.AdamOptimizer().minimize(cost)\n",
    "    train_x = sampleImage()\n",
    "    sess = tf.Session()\n",
    "    sess.run(tf.global_variables_initializer())\n",
    "    \n",
    "    for i in range(100000):\n",
    "        _,hidden_output_, output_,cost_,w_= sess.run([train_step, hidden_output, output,cost,w], feed_dict = {x : train_x})\n",
    "        if i%1000 == 0:\n",
    "#             print(hidden_output_)\n",
    "#             print(output_)\n",
    "            print(cost_)\n",
    "    np.save(\"weights1.npy\", w_)\n",
    "    show_image(w_)\n",
    "main()"
   ]
  }
 ],
 "metadata": {
  "kernelspec": {
   "display_name": "Python 3",
   "language": "python",
   "name": "python3"
  },
  "language_info": {
   "codemirror_mode": {
    "name": "ipython",
    "version": 3
   },
   "file_extension": ".py",
   "mimetype": "text/x-python",
   "name": "python",
   "nbconvert_exporter": "python",
   "pygments_lexer": "ipython3",
   "version": "3.6.1"
  }
 },
 "nbformat": 4,
 "nbformat_minor": 2
}
